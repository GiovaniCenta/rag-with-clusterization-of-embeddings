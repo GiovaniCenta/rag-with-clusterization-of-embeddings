{
 "cells": [
  {
   "cell_type": "code",
   "execution_count": 4,
   "metadata": {},
   "outputs": [
    {
     "name": "stdout",
     "output_type": "stream",
     "text": [
      "                                          chunk_text  \\\n",
      "0  Os normandos (normandos: nourmands; francês: n...   \n",
      "1  Os normandos (normandos: nourmands; francês: n...   \n",
      "2  Os normandos (normandos: nourmands; francês: n...   \n",
      "3  Os normandos (normandos: nourmands; francês: n...   \n",
      "4  Os normandos (normandos: nourmands; francês: n...   \n",
      "\n",
      "                                               query  \\\n",
      "0           Em que país a Normandia está localizada?   \n",
      "1          Quando os normandos estavam na Normandia?   \n",
      "2         De quais países os nórdicos se originaram?   \n",
      "3                          Quem era o líder nórdico?   \n",
      "4  Em que século os normandos ganharam sua identi...   \n",
      "\n",
      "                                           embedding document_name  \\\n",
      "0  [0.02337769791483879, 0.06848494708538055, -0....       Normans   \n",
      "1  [0.02337769791483879, 0.06848494708538055, -0....       Normans   \n",
      "2  [0.02337769791483879, 0.06848494708538055, -0....       Normans   \n",
      "3  [0.02337769791483879, 0.06848494708538055, -0....       Normans   \n",
      "4  [0.02337769791483879, 0.06848494708538055, -0....       Normans   \n",
      "\n",
      "                          answer  \n",
      "0                         França  \n",
      "1                 Séculos X e XI  \n",
      "2  Dinamarca, Islândia e Noruega  \n",
      "3                          Rollo  \n",
      "4                       Século X  \n"
     ]
    }
   ],
   "source": [
    "import pandas as pd\n",
    "df = pd.read_pickle('../datasets/brquad-gte-dev-v2.0_embedded_with_document_names_and_answers.pkl')\n",
    "df.rename(columns={'document name': 'document_name', 'context': 'chunk_text'}, inplace=True)\n",
    "df_filtered = df.loc[df['answer'] != 'N/A']  ##remover onde a resposta é N/A\n",
    "print(df_filtered.head())"
   ]
  },
  {
   "cell_type": "code",
   "execution_count": 6,
   "metadata": {},
   "outputs": [
    {
     "name": "stderr",
     "output_type": "stream",
     "text": [
      "C:\\Users\\Cliente\\AppData\\Local\\Temp\\ipykernel_16964\\2630908565.py:31: SettingWithCopyWarning: \n",
      "A value is trying to be set on a copy of a slice from a DataFrame.\n",
      "Try using .loc[row_indexer,col_indexer] = value instead\n",
      "\n",
      "See the caveats in the documentation: https://pandas.pydata.org/pandas-docs/stable/user_guide/indexing.html#returning-a-view-versus-a-copy\n",
      "  df_filtered['rag_answer'], df_filtered['execution_time'] = zip(*results)\n",
      "C:\\Users\\Cliente\\AppData\\Local\\Temp\\ipykernel_16964\\2630908565.py:31: SettingWithCopyWarning: \n",
      "A value is trying to be set on a copy of a slice from a DataFrame.\n",
      "Try using .loc[row_indexer,col_indexer] = value instead\n",
      "\n",
      "See the caveats in the documentation: https://pandas.pydata.org/pandas-docs/stable/user_guide/indexing.html#returning-a-view-versus-a-copy\n",
      "  df_filtered['rag_answer'], df_filtered['execution_time'] = zip(*results)\n"
     ]
    },
    {
     "name": "stdout",
     "output_type": "stream",
     "text": [
      "Total execution time: 8880.305067539215 seconds\n"
     ]
    },
    {
     "ename": "",
     "evalue": "",
     "output_type": "error",
     "traceback": [
      "\u001b[1;31mThe Kernel crashed while executing code in the current cell or a previous cell. \n",
      "\u001b[1;31mPlease review the code in the cell(s) to identify a possible cause of the failure. \n",
      "\u001b[1;31mClick <a href='https://aka.ms/vscodeJupyterKernelCrash'>here</a> for more info. \n",
      "\u001b[1;31mView Jupyter <a href='command:jupyter.viewOutput'>log</a> for further details."
     ]
    }
   ],
   "source": [
    "import time\n",
    "import numpy as np\n",
    "import pandas as pd\n",
    "from scipy.spatial.distance import cdist\n",
    "from openai_utils import embed_with_openai, ask_with_openai\n",
    "\n",
    "# Configuração inicial: definindo o número de contextos a serem considerados\n",
    "n_contexts = 3\n",
    "\n",
    "def find_closest_contexts(question_embedding, context_embeddings, n=n_contexts):\n",
    "    distances = cdist(question_embedding, context_embeddings, 'euclidean').flatten()\n",
    "    closest_indices = np.argsort(distances)[:n]\n",
    "    return closest_indices\n",
    "\n",
    "def generate_rag_answer(row, n=n_contexts):\n",
    "    start_time = time.time()\n",
    "    question_embedding = np.array(embed_with_openai(row['query'])).reshape(1, -1)\n",
    "    context_embeddings = np.vstack(df_filtered['embedding'].values)\n",
    "    closest_indices = find_closest_contexts(question_embedding, context_embeddings, n)\n",
    "    closest_contexts = df_filtered.iloc[closest_indices]['chunk_text'].tolist()\n",
    "    answer = ask_with_openai(question=row['query'], context=closest_contexts)\n",
    "    end_time = time.time()\n",
    "    execution_time = end_time - start_time\n",
    "    return answer, execution_time\n",
    "\n",
    "# Inicia a contagem do tempo total\n",
    "total_start_time = time.time()\n",
    "\n",
    "# Aplicando a função modificada\n",
    "results = df_filtered.apply(generate_rag_answer, axis=1)\n",
    "df_filtered['rag_answer'], df_filtered['execution_time'] = zip(*results)\n",
    "\n",
    "# Calcula o tempo total gasto\n",
    "total_end_time = time.time()\n",
    "total_execution_time = total_end_time - total_start_time\n",
    "\n",
    "print(f\"Total execution time: {total_execution_time} seconds\")\n",
    "\n",
    "# Formatando o nome do arquivo para incluir o número de contextos e o tempo total de execução\n",
    "file_name = f\"../logs/RAG_brquad-gte-dev-v2.0_____n-{n_contexts}_____total-time-{(total_execution_time)}s.pkl\"\n",
    "\n",
    "# Salva o DataFrame atualizado\n",
    "df_filtered.to_pickle(file_name)\n"
   ]
  },
  {
   "cell_type": "code",
   "execution_count": null,
   "metadata": {},
   "outputs": [],
   "source": []
  }
 ],
 "metadata": {
  "kernelspec": {
   "display_name": "Python 3",
   "language": "python",
   "name": "python3"
  },
  "language_info": {
   "codemirror_mode": {
    "name": "ipython",
    "version": 3
   },
   "file_extension": ".py",
   "mimetype": "text/x-python",
   "name": "python",
   "nbconvert_exporter": "python",
   "pygments_lexer": "ipython3",
   "version": "3.11.9"
  }
 },
 "nbformat": 4,
 "nbformat_minor": 2
}
