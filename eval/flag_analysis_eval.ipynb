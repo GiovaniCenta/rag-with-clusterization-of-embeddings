{
 "cells": [
  {
   "cell_type": "code",
   "execution_count": 3,
   "metadata": {},
   "outputs": [
    {
     "name": "stdout",
     "output_type": "stream",
     "text": [
      "Flag Counts:\n",
      "flag_gap\n",
      "0     1\n",
      "1    17\n",
      "2     4\n",
      "3     1\n",
      "Name: count, dtype: int64\n",
      "\n",
      "Gap Disparity Metrics:\n",
      "           min_gap   max_gap  average_gap  gap_count\n",
      "flag_gap                                            \n",
      "0         0.066603  0.146600     0.100436        5.0\n",
      "1         0.032059  0.508930     0.123691       85.0\n",
      "2         0.048287  0.227270     0.127374       20.0\n",
      "3         0.031242  0.347668     0.158703        5.0\n"
     ]
    }
   ],
   "source": [
    "import json\n",
    "import pandas as pd\n",
    "\n",
    "# Load the flag_analysis JSON data\n",
    "with open('flag_analysis.json', 'r') as f:\n",
    "    flag_analysis_data = json.load(f)\n",
    "\n",
    "# Convert the JSON data to a DataFrame\n",
    "df = pd.DataFrame(flag_analysis_data)\n",
    "\n",
    "# Count the occurrences of each flag_gap value\n",
    "flag_counts = df['flag_gap'].value_counts().sort_index()\n",
    "\n",
    "# Extract gap values from the list of dictionaries\n",
    "def extract_gaps(gaps_list):\n",
    "    return [float(list(gap.keys())[0]) for gaps in gaps_list for gap in gaps]\n",
    "\n",
    "# Calculate the disparity of gap values for each flag_gap value\n",
    "gap_disparity = df.groupby('flag_gap')['gaps'].apply(lambda gaps_list: extract_gaps(gaps_list))\n",
    "\n",
    "# Calculate disparity metrics for each flag\n",
    "gap_disparity_metrics = gap_disparity.apply(lambda gap_list: pd.Series({\n",
    "    'min_gap': min(gap_list) if gap_list else float('nan'),\n",
    "    'max_gap': max(gap_list) if gap_list else float('nan'),\n",
    "    'average_gap': sum(gap_list) / len(gap_list) if gap_list else float('nan'),\n",
    "    'gap_count': len(gap_list)\n",
    "}))\n",
    "\n",
    "# Display the results\n",
    "print(\"Flag Counts:\")\n",
    "print(flag_counts)\n",
    "\n",
    "print(\"\\nGap Disparity Metrics:\")\n",
    "print(gap_disparity_metrics)\n"
   ]
  },
  {
   "cell_type": "code",
   "execution_count": 6,
   "metadata": {},
   "outputs": [
    {
     "name": "stdout",
     "output_type": "stream",
     "text": [
      "Flag Counts:\n",
      "flag_gap\n",
      "1    17\n",
      "2     4\n",
      "Name: count, dtype: int64\n",
      "\n",
      "Gap Difference Metrics:\n",
      "          min_gap_diff  max_gap_diff  average_gap_diff\n",
      "flag_gap                                              \n",
      "1             0.000904      0.432834          0.181761\n",
      "2             0.003481      0.049963          0.020721\n"
     ]
    }
   ],
   "source": [
    "import json\n",
    "import pandas as pd\n",
    "\n",
    "# Load the flag_analysis JSON data\n",
    "with open('flag_analysis.json', 'r') as f:\n",
    "    flag_analysis_data = json.load(f)\n",
    "\n",
    "# Convert the JSON data to a DataFrame\n",
    "df = pd.DataFrame(flag_analysis_data)\n",
    "\n",
    "# Filter out flags 0, 3, 4, 5\n",
    "df_filtered = df[df['flag_gap'].isin([1, 2])]\n",
    "\n",
    "# Extract gap differences from the list of dictionaries\n",
    "def extract_gap_differences(gaps_list):\n",
    "    # Extract only the first and second biggest gaps and calculate their differences\n",
    "    differences = []\n",
    "    for gaps in gaps_list:\n",
    "        if len(gaps) >= 2:\n",
    "            first_gap = float(list(gaps[0].keys())[0])\n",
    "            second_gap = float(list(gaps[1].keys())[0])\n",
    "            differences.append(first_gap - second_gap)\n",
    "    return differences\n",
    "\n",
    "# Calculate the gap differences for each flag_gap value\n",
    "gap_differences = df_filtered.groupby('flag_gap')['gaps'].apply(lambda gaps_list: extract_gap_differences(gaps_list))\n",
    "\n",
    "# Calculate metrics for each flag\n",
    "gap_difference_metrics = gap_differences.apply(lambda diff_list: pd.Series({\n",
    "    'min_gap_diff': min(diff_list) if diff_list else float('nan'),\n",
    "    'max_gap_diff': max(diff_list) if diff_list else float('nan'),\n",
    "    'average_gap_diff': sum(diff_list) / len(diff_list) if diff_list else float('nan')\n",
    "}))\n",
    "\n",
    "# Display the results\n",
    "print(\"Flag Counts:\")\n",
    "print(df_filtered['flag_gap'].value_counts().sort_index())\n",
    "\n",
    "print(\"\\nGap Difference Metrics:\")\n",
    "print(gap_difference_metrics)\n"
   ]
  },
  {
   "cell_type": "code",
   "execution_count": null,
   "metadata": {},
   "outputs": [],
   "source": []
  }
 ],
 "metadata": {
  "kernelspec": {
   "display_name": "Python 3",
   "language": "python",
   "name": "python3"
  },
  "language_info": {
   "codemirror_mode": {
    "name": "ipython",
    "version": 3
   },
   "file_extension": ".py",
   "mimetype": "text/x-python",
   "name": "python",
   "nbconvert_exporter": "python",
   "pygments_lexer": "ipython3",
   "version": "3.12.3"
  }
 },
 "nbformat": 4,
 "nbformat_minor": 2
}
