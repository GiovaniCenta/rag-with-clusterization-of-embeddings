{
 "cells": [
  {
   "cell_type": "code",
   "execution_count": 13,
   "metadata": {},
   "outputs": [
    {
     "name": "stdout",
     "output_type": "stream",
     "text": [
      "is_similar\n",
      "1    0.882606\n",
      "0    0.117394\n",
      "Name: count, dtype: float64\n"
     ]
    }
   ],
   "source": [
    "import pandas as pd\n",
    "df = pd.read_csv('../__KDTREE__DOCUMENT_____datetime_20240415_171301_____threshold_0.4_____npca_300_____k_3_____execution_time_11935.63_evaluated.csv')\n",
    "#print(df.head())\n",
    "##accuracy\n",
    "df.dropna(inplace=True)\n",
    "print(df['is_similar'].value_counts()/len(df))"
   ]
  },
  {
   "cell_type": "code",
   "execution_count": 14,
   "metadata": {},
   "outputs": [
    {
     "name": "stdout",
     "output_type": "stream",
     "text": [
      "is_similar\n",
      "1    0.843559\n",
      "0    0.156441\n",
      "Name: count, dtype: float64\n"
     ]
    }
   ],
   "source": [
    "import pandas as pd\n",
    "df = pd.read_csv('../__KDTREE__HDBSCAN_____datetime_20240412_184709_____threshold_0.3_____npca_500_____k_3_____execution_time_8863.58_evaluated.csv')\n",
    "#print(df.head())\n",
    "##accuracy\n",
    "df.dropna(inplace=True)\n",
    "print(df['is_similar'].value_counts()/len(df))"
   ]
  },
  {
   "cell_type": "code",
   "execution_count": 1,
   "metadata": {},
   "outputs": [
    {
     "name": "stdout",
     "output_type": "stream",
     "text": [
      "is_similar\n",
      "1    0.886634\n",
      "0    0.113366\n",
      "Name: count, dtype: float64\n"
     ]
    }
   ],
   "source": [
    "import pandas as pd\n",
    "df = pd.read_csv('../__KDTREE__HDBSCAN_____datetime_20240417_103658_____threshold_0.3_____npca_500_____k_3_____execution_time_12492.50_evaluated.csv')\n",
    "#print(df.head())\n",
    "##accuracy\n",
    "df.dropna(inplace=True)\n",
    "print(df['is_similar'].value_counts()/len(df))"
   ]
  },
  {
   "cell_type": "code",
   "execution_count": null,
   "metadata": {},
   "outputs": [],
   "source": []
  }
 ],
 "metadata": {
  "kernelspec": {
   "display_name": "Python 3",
   "language": "python",
   "name": "python3"
  },
  "language_info": {
   "codemirror_mode": {
    "name": "ipython",
    "version": 3
   },
   "file_extension": ".py",
   "mimetype": "text/x-python",
   "name": "python",
   "nbconvert_exporter": "python",
   "pygments_lexer": "ipython3",
   "version": "3.11.9"
  }
 },
 "nbformat": 4,
 "nbformat_minor": 2
}
